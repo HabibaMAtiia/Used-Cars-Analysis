{
 "cells": [
  {
   "cell_type": "code",
   "execution_count": 61,
   "id": "06bdce00-2055-46fb-b5a8-168f999e56d0",
   "metadata": {},
   "outputs": [],
   "source": [
    "import pandas as pd\n",
    "import numpy as np \n",
    "import matplotlib.pyplot as plt\n",
    "import seaborn as sns\n",
    "import datetime \n",
    "import warnings\n",
    "warnings.filterwarnings(\"ignore\")"
   ]
  },
  {
   "cell_type": "markdown",
   "id": "d460d5e1-a78e-4333-ad1f-acb035585911",
   "metadata": {},
   "source": [
    "EDA"
   ]
  },
  {
   "cell_type": "code",
   "execution_count": 62,
   "id": "51143c2c-a7ef-435d-8251-e77c4702e338",
   "metadata": {},
   "outputs": [
    {
     "data": {
      "text/html": [
       "<div>\n",
       "<style scoped>\n",
       "    .dataframe tbody tr th:only-of-type {\n",
       "        vertical-align: middle;\n",
       "    }\n",
       "\n",
       "    .dataframe tbody tr th {\n",
       "        vertical-align: top;\n",
       "    }\n",
       "\n",
       "    .dataframe thead th {\n",
       "        text-align: right;\n",
       "    }\n",
       "</style>\n",
       "<table border=\"1\" class=\"dataframe\">\n",
       "  <thead>\n",
       "    <tr style=\"text-align: right;\">\n",
       "      <th></th>\n",
       "      <th>id</th>\n",
       "      <th>url</th>\n",
       "      <th>region</th>\n",
       "      <th>region_url</th>\n",
       "      <th>price</th>\n",
       "      <th>year</th>\n",
       "      <th>manufacturer</th>\n",
       "      <th>model</th>\n",
       "      <th>condition</th>\n",
       "      <th>cylinders</th>\n",
       "      <th>...</th>\n",
       "      <th>size</th>\n",
       "      <th>type</th>\n",
       "      <th>paint_color</th>\n",
       "      <th>image_url</th>\n",
       "      <th>description</th>\n",
       "      <th>county</th>\n",
       "      <th>state</th>\n",
       "      <th>lat</th>\n",
       "      <th>long</th>\n",
       "      <th>posting_date</th>\n",
       "    </tr>\n",
       "  </thead>\n",
       "  <tbody>\n",
       "    <tr>\n",
       "      <th>0</th>\n",
       "      <td>7222695916</td>\n",
       "      <td>https://prescott.craigslist.org/cto/d/prescott...</td>\n",
       "      <td>prescott</td>\n",
       "      <td>https://prescott.craigslist.org</td>\n",
       "      <td>6000</td>\n",
       "      <td>NaN</td>\n",
       "      <td>NaN</td>\n",
       "      <td>NaN</td>\n",
       "      <td>NaN</td>\n",
       "      <td>NaN</td>\n",
       "      <td>...</td>\n",
       "      <td>NaN</td>\n",
       "      <td>NaN</td>\n",
       "      <td>NaN</td>\n",
       "      <td>NaN</td>\n",
       "      <td>NaN</td>\n",
       "      <td>NaN</td>\n",
       "      <td>az</td>\n",
       "      <td>NaN</td>\n",
       "      <td>NaN</td>\n",
       "      <td>NaN</td>\n",
       "    </tr>\n",
       "    <tr>\n",
       "      <th>1</th>\n",
       "      <td>7218891961</td>\n",
       "      <td>https://fayar.craigslist.org/ctd/d/bentonville...</td>\n",
       "      <td>fayetteville</td>\n",
       "      <td>https://fayar.craigslist.org</td>\n",
       "      <td>11900</td>\n",
       "      <td>NaN</td>\n",
       "      <td>NaN</td>\n",
       "      <td>NaN</td>\n",
       "      <td>NaN</td>\n",
       "      <td>NaN</td>\n",
       "      <td>...</td>\n",
       "      <td>NaN</td>\n",
       "      <td>NaN</td>\n",
       "      <td>NaN</td>\n",
       "      <td>NaN</td>\n",
       "      <td>NaN</td>\n",
       "      <td>NaN</td>\n",
       "      <td>ar</td>\n",
       "      <td>NaN</td>\n",
       "      <td>NaN</td>\n",
       "      <td>NaN</td>\n",
       "    </tr>\n",
       "    <tr>\n",
       "      <th>2</th>\n",
       "      <td>7221797935</td>\n",
       "      <td>https://keys.craigslist.org/cto/d/summerland-k...</td>\n",
       "      <td>florida keys</td>\n",
       "      <td>https://keys.craigslist.org</td>\n",
       "      <td>21000</td>\n",
       "      <td>NaN</td>\n",
       "      <td>NaN</td>\n",
       "      <td>NaN</td>\n",
       "      <td>NaN</td>\n",
       "      <td>NaN</td>\n",
       "      <td>...</td>\n",
       "      <td>NaN</td>\n",
       "      <td>NaN</td>\n",
       "      <td>NaN</td>\n",
       "      <td>NaN</td>\n",
       "      <td>NaN</td>\n",
       "      <td>NaN</td>\n",
       "      <td>fl</td>\n",
       "      <td>NaN</td>\n",
       "      <td>NaN</td>\n",
       "      <td>NaN</td>\n",
       "    </tr>\n",
       "    <tr>\n",
       "      <th>3</th>\n",
       "      <td>7222270760</td>\n",
       "      <td>https://worcester.craigslist.org/cto/d/west-br...</td>\n",
       "      <td>worcester / central MA</td>\n",
       "      <td>https://worcester.craigslist.org</td>\n",
       "      <td>1500</td>\n",
       "      <td>NaN</td>\n",
       "      <td>NaN</td>\n",
       "      <td>NaN</td>\n",
       "      <td>NaN</td>\n",
       "      <td>NaN</td>\n",
       "      <td>...</td>\n",
       "      <td>NaN</td>\n",
       "      <td>NaN</td>\n",
       "      <td>NaN</td>\n",
       "      <td>NaN</td>\n",
       "      <td>NaN</td>\n",
       "      <td>NaN</td>\n",
       "      <td>ma</td>\n",
       "      <td>NaN</td>\n",
       "      <td>NaN</td>\n",
       "      <td>NaN</td>\n",
       "    </tr>\n",
       "    <tr>\n",
       "      <th>4</th>\n",
       "      <td>7210384030</td>\n",
       "      <td>https://greensboro.craigslist.org/cto/d/trinit...</td>\n",
       "      <td>greensboro</td>\n",
       "      <td>https://greensboro.craigslist.org</td>\n",
       "      <td>4900</td>\n",
       "      <td>NaN</td>\n",
       "      <td>NaN</td>\n",
       "      <td>NaN</td>\n",
       "      <td>NaN</td>\n",
       "      <td>NaN</td>\n",
       "      <td>...</td>\n",
       "      <td>NaN</td>\n",
       "      <td>NaN</td>\n",
       "      <td>NaN</td>\n",
       "      <td>NaN</td>\n",
       "      <td>NaN</td>\n",
       "      <td>NaN</td>\n",
       "      <td>nc</td>\n",
       "      <td>NaN</td>\n",
       "      <td>NaN</td>\n",
       "      <td>NaN</td>\n",
       "    </tr>\n",
       "  </tbody>\n",
       "</table>\n",
       "<p>5 rows × 26 columns</p>\n",
       "</div>"
      ],
      "text/plain": [
       "           id                                                url  \\\n",
       "0  7222695916  https://prescott.craigslist.org/cto/d/prescott...   \n",
       "1  7218891961  https://fayar.craigslist.org/ctd/d/bentonville...   \n",
       "2  7221797935  https://keys.craigslist.org/cto/d/summerland-k...   \n",
       "3  7222270760  https://worcester.craigslist.org/cto/d/west-br...   \n",
       "4  7210384030  https://greensboro.craigslist.org/cto/d/trinit...   \n",
       "\n",
       "                   region                         region_url  price  year  \\\n",
       "0                prescott    https://prescott.craigslist.org   6000   NaN   \n",
       "1            fayetteville       https://fayar.craigslist.org  11900   NaN   \n",
       "2            florida keys        https://keys.craigslist.org  21000   NaN   \n",
       "3  worcester / central MA   https://worcester.craigslist.org   1500   NaN   \n",
       "4              greensboro  https://greensboro.craigslist.org   4900   NaN   \n",
       "\n",
       "  manufacturer model condition cylinders  ... size  type paint_color  \\\n",
       "0          NaN   NaN       NaN       NaN  ...  NaN   NaN         NaN   \n",
       "1          NaN   NaN       NaN       NaN  ...  NaN   NaN         NaN   \n",
       "2          NaN   NaN       NaN       NaN  ...  NaN   NaN         NaN   \n",
       "3          NaN   NaN       NaN       NaN  ...  NaN   NaN         NaN   \n",
       "4          NaN   NaN       NaN       NaN  ...  NaN   NaN         NaN   \n",
       "\n",
       "  image_url description county state lat long posting_date  \n",
       "0       NaN         NaN    NaN    az NaN  NaN          NaN  \n",
       "1       NaN         NaN    NaN    ar NaN  NaN          NaN  \n",
       "2       NaN         NaN    NaN    fl NaN  NaN          NaN  \n",
       "3       NaN         NaN    NaN    ma NaN  NaN          NaN  \n",
       "4       NaN         NaN    NaN    nc NaN  NaN          NaN  \n",
       "\n",
       "[5 rows x 26 columns]"
      ]
     },
     "execution_count": 62,
     "metadata": {},
     "output_type": "execute_result"
    }
   ],
   "source": [
    "df = pd.read_csv(\"D:\\\\Microsoft sc\\\\vehicles.csv\")\n",
    "df.head()"
   ]
  },
  {
   "cell_type": "code",
   "execution_count": 63,
   "id": "9f53bde3-17af-49f2-9879-74b29aebbcc3",
   "metadata": {},
   "outputs": [
    {
     "data": {
      "text/plain": [
       "Index(['id', 'url', 'region', 'region_url', 'price', 'year', 'manufacturer',\n",
       "       'model', 'condition', 'cylinders', 'fuel', 'odometer', 'title_status',\n",
       "       'transmission', 'VIN', 'drive', 'size', 'type', 'paint_color',\n",
       "       'image_url', 'description', 'county', 'state', 'lat', 'long',\n",
       "       'posting_date'],\n",
       "      dtype='object')"
      ]
     },
     "execution_count": 63,
     "metadata": {},
     "output_type": "execute_result"
    }
   ],
   "source": [
    "df.columns #discover features"
   ]
  },
  {
   "cell_type": "code",
   "execution_count": 64,
   "id": "692e972c-7bbe-442f-abda-c5050b63f150",
   "metadata": {},
   "outputs": [
    {
     "name": "stdout",
     "output_type": "stream",
     "text": [
      "<class 'pandas.core.frame.DataFrame'>\n",
      "RangeIndex: 426880 entries, 0 to 426879\n",
      "Data columns (total 26 columns):\n",
      " #   Column        Non-Null Count   Dtype  \n",
      "---  ------        --------------   -----  \n",
      " 0   id            426880 non-null  int64  \n",
      " 1   url           426880 non-null  object \n",
      " 2   region        426880 non-null  object \n",
      " 3   region_url    426880 non-null  object \n",
      " 4   price         426880 non-null  int64  \n",
      " 5   year          425675 non-null  float64\n",
      " 6   manufacturer  409234 non-null  object \n",
      " 7   model         421603 non-null  object \n",
      " 8   condition     252776 non-null  object \n",
      " 9   cylinders     249202 non-null  object \n",
      " 10  fuel          423867 non-null  object \n",
      " 11  odometer      422480 non-null  float64\n",
      " 12  title_status  418638 non-null  object \n",
      " 13  transmission  424324 non-null  object \n",
      " 14  VIN           265838 non-null  object \n",
      " 15  drive         296313 non-null  object \n",
      " 16  size          120519 non-null  object \n",
      " 17  type          334022 non-null  object \n",
      " 18  paint_color   296677 non-null  object \n",
      " 19  image_url     426812 non-null  object \n",
      " 20  description   426810 non-null  object \n",
      " 21  county        0 non-null       float64\n",
      " 22  state         426880 non-null  object \n",
      " 23  lat           420331 non-null  float64\n",
      " 24  long          420331 non-null  float64\n",
      " 25  posting_date  426812 non-null  object \n",
      "dtypes: float64(5), int64(2), object(19)\n",
      "memory usage: 84.7+ MB\n"
     ]
    }
   ],
   "source": [
    "df.info() #checking for nulls"
   ]
  },
  {
   "cell_type": "markdown",
   "id": "bae2d0ed-d473-4d49-89c1-86288622e7c0",
   "metadata": {},
   "source": [
    "- There are nulls"
   ]
  },
  {
   "cell_type": "code",
   "execution_count": 65,
   "id": "7eaba43d-11dc-4999-ac89-1024258c5b80",
   "metadata": {},
   "outputs": [
    {
     "data": {
      "text/plain": [
       "(426880, 26)"
      ]
     },
     "execution_count": 65,
     "metadata": {},
     "output_type": "execute_result"
    }
   ],
   "source": [
    "df.shape # num of rows and columns"
   ]
  },
  {
   "cell_type": "code",
   "execution_count": 66,
   "id": "55fece25-ccbd-4557-b740-32a3ee5284fa",
   "metadata": {},
   "outputs": [
    {
     "data": {
      "text/html": [
       "<div>\n",
       "<style scoped>\n",
       "    .dataframe tbody tr th:only-of-type {\n",
       "        vertical-align: middle;\n",
       "    }\n",
       "\n",
       "    .dataframe tbody tr th {\n",
       "        vertical-align: top;\n",
       "    }\n",
       "\n",
       "    .dataframe thead th {\n",
       "        text-align: right;\n",
       "    }\n",
       "</style>\n",
       "<table border=\"1\" class=\"dataframe\">\n",
       "  <thead>\n",
       "    <tr style=\"text-align: right;\">\n",
       "      <th></th>\n",
       "      <th>id</th>\n",
       "      <th>price</th>\n",
       "      <th>year</th>\n",
       "      <th>odometer</th>\n",
       "      <th>county</th>\n",
       "      <th>lat</th>\n",
       "      <th>long</th>\n",
       "    </tr>\n",
       "  </thead>\n",
       "  <tbody>\n",
       "    <tr>\n",
       "      <th>count</th>\n",
       "      <td>4.268800e+05</td>\n",
       "      <td>4.268800e+05</td>\n",
       "      <td>425675.000000</td>\n",
       "      <td>4.224800e+05</td>\n",
       "      <td>0.0</td>\n",
       "      <td>420331.000000</td>\n",
       "      <td>420331.000000</td>\n",
       "    </tr>\n",
       "    <tr>\n",
       "      <th>mean</th>\n",
       "      <td>7.311487e+09</td>\n",
       "      <td>7.519903e+04</td>\n",
       "      <td>2011.235191</td>\n",
       "      <td>9.804333e+04</td>\n",
       "      <td>NaN</td>\n",
       "      <td>38.493940</td>\n",
       "      <td>-94.748599</td>\n",
       "    </tr>\n",
       "    <tr>\n",
       "      <th>std</th>\n",
       "      <td>4.473170e+06</td>\n",
       "      <td>1.218228e+07</td>\n",
       "      <td>9.452120</td>\n",
       "      <td>2.138815e+05</td>\n",
       "      <td>NaN</td>\n",
       "      <td>5.841533</td>\n",
       "      <td>18.365462</td>\n",
       "    </tr>\n",
       "    <tr>\n",
       "      <th>min</th>\n",
       "      <td>7.207408e+09</td>\n",
       "      <td>0.000000e+00</td>\n",
       "      <td>1900.000000</td>\n",
       "      <td>0.000000e+00</td>\n",
       "      <td>NaN</td>\n",
       "      <td>-84.122245</td>\n",
       "      <td>-159.827728</td>\n",
       "    </tr>\n",
       "    <tr>\n",
       "      <th>25%</th>\n",
       "      <td>7.308143e+09</td>\n",
       "      <td>5.900000e+03</td>\n",
       "      <td>2008.000000</td>\n",
       "      <td>3.770400e+04</td>\n",
       "      <td>NaN</td>\n",
       "      <td>34.601900</td>\n",
       "      <td>-111.939847</td>\n",
       "    </tr>\n",
       "    <tr>\n",
       "      <th>50%</th>\n",
       "      <td>7.312621e+09</td>\n",
       "      <td>1.395000e+04</td>\n",
       "      <td>2013.000000</td>\n",
       "      <td>8.554800e+04</td>\n",
       "      <td>NaN</td>\n",
       "      <td>39.150100</td>\n",
       "      <td>-88.432600</td>\n",
       "    </tr>\n",
       "    <tr>\n",
       "      <th>75%</th>\n",
       "      <td>7.315254e+09</td>\n",
       "      <td>2.648575e+04</td>\n",
       "      <td>2017.000000</td>\n",
       "      <td>1.335425e+05</td>\n",
       "      <td>NaN</td>\n",
       "      <td>42.398900</td>\n",
       "      <td>-80.832039</td>\n",
       "    </tr>\n",
       "    <tr>\n",
       "      <th>max</th>\n",
       "      <td>7.317101e+09</td>\n",
       "      <td>3.736929e+09</td>\n",
       "      <td>2022.000000</td>\n",
       "      <td>1.000000e+07</td>\n",
       "      <td>NaN</td>\n",
       "      <td>82.390818</td>\n",
       "      <td>173.885502</td>\n",
       "    </tr>\n",
       "  </tbody>\n",
       "</table>\n",
       "</div>"
      ],
      "text/plain": [
       "                 id         price           year      odometer  county  \\\n",
       "count  4.268800e+05  4.268800e+05  425675.000000  4.224800e+05     0.0   \n",
       "mean   7.311487e+09  7.519903e+04    2011.235191  9.804333e+04     NaN   \n",
       "std    4.473170e+06  1.218228e+07       9.452120  2.138815e+05     NaN   \n",
       "min    7.207408e+09  0.000000e+00    1900.000000  0.000000e+00     NaN   \n",
       "25%    7.308143e+09  5.900000e+03    2008.000000  3.770400e+04     NaN   \n",
       "50%    7.312621e+09  1.395000e+04    2013.000000  8.554800e+04     NaN   \n",
       "75%    7.315254e+09  2.648575e+04    2017.000000  1.335425e+05     NaN   \n",
       "max    7.317101e+09  3.736929e+09    2022.000000  1.000000e+07     NaN   \n",
       "\n",
       "                 lat           long  \n",
       "count  420331.000000  420331.000000  \n",
       "mean       38.493940     -94.748599  \n",
       "std         5.841533      18.365462  \n",
       "min       -84.122245    -159.827728  \n",
       "25%        34.601900    -111.939847  \n",
       "50%        39.150100     -88.432600  \n",
       "75%        42.398900     -80.832039  \n",
       "max        82.390818     173.885502  "
      ]
     },
     "execution_count": 66,
     "metadata": {},
     "output_type": "execute_result"
    }
   ],
   "source": [
    "df.describe() #Statistical information about numerical features"
   ]
  },
  {
   "cell_type": "code",
   "execution_count": 67,
   "id": "ba92efc8-e56b-4dc0-94c9-04046a5a385e",
   "metadata": {},
   "outputs": [
    {
     "data": {
      "text/html": [
       "<div>\n",
       "<style scoped>\n",
       "    .dataframe tbody tr th:only-of-type {\n",
       "        vertical-align: middle;\n",
       "    }\n",
       "\n",
       "    .dataframe tbody tr th {\n",
       "        vertical-align: top;\n",
       "    }\n",
       "\n",
       "    .dataframe thead th {\n",
       "        text-align: right;\n",
       "    }\n",
       "</style>\n",
       "<table border=\"1\" class=\"dataframe\">\n",
       "  <thead>\n",
       "    <tr style=\"text-align: right;\">\n",
       "      <th></th>\n",
       "      <th>url</th>\n",
       "      <th>region</th>\n",
       "      <th>region_url</th>\n",
       "      <th>manufacturer</th>\n",
       "      <th>model</th>\n",
       "      <th>condition</th>\n",
       "      <th>cylinders</th>\n",
       "      <th>fuel</th>\n",
       "      <th>title_status</th>\n",
       "      <th>transmission</th>\n",
       "      <th>VIN</th>\n",
       "      <th>drive</th>\n",
       "      <th>size</th>\n",
       "      <th>type</th>\n",
       "      <th>paint_color</th>\n",
       "      <th>image_url</th>\n",
       "      <th>description</th>\n",
       "      <th>state</th>\n",
       "      <th>posting_date</th>\n",
       "    </tr>\n",
       "  </thead>\n",
       "  <tbody>\n",
       "    <tr>\n",
       "      <th>count</th>\n",
       "      <td>426880</td>\n",
       "      <td>426880</td>\n",
       "      <td>426880</td>\n",
       "      <td>409234</td>\n",
       "      <td>421603</td>\n",
       "      <td>252776</td>\n",
       "      <td>249202</td>\n",
       "      <td>423867</td>\n",
       "      <td>418638</td>\n",
       "      <td>424324</td>\n",
       "      <td>265838</td>\n",
       "      <td>296313</td>\n",
       "      <td>120519</td>\n",
       "      <td>334022</td>\n",
       "      <td>296677</td>\n",
       "      <td>426812</td>\n",
       "      <td>426810</td>\n",
       "      <td>426880</td>\n",
       "      <td>426812</td>\n",
       "    </tr>\n",
       "    <tr>\n",
       "      <th>unique</th>\n",
       "      <td>426880</td>\n",
       "      <td>404</td>\n",
       "      <td>413</td>\n",
       "      <td>42</td>\n",
       "      <td>29667</td>\n",
       "      <td>6</td>\n",
       "      <td>8</td>\n",
       "      <td>5</td>\n",
       "      <td>6</td>\n",
       "      <td>3</td>\n",
       "      <td>118264</td>\n",
       "      <td>3</td>\n",
       "      <td>4</td>\n",
       "      <td>13</td>\n",
       "      <td>12</td>\n",
       "      <td>241899</td>\n",
       "      <td>360911</td>\n",
       "      <td>51</td>\n",
       "      <td>381536</td>\n",
       "    </tr>\n",
       "    <tr>\n",
       "      <th>top</th>\n",
       "      <td>https://prescott.craigslist.org/cto/d/prescott...</td>\n",
       "      <td>columbus</td>\n",
       "      <td>https://spokane.craigslist.org</td>\n",
       "      <td>ford</td>\n",
       "      <td>f-150</td>\n",
       "      <td>good</td>\n",
       "      <td>6 cylinders</td>\n",
       "      <td>gas</td>\n",
       "      <td>clean</td>\n",
       "      <td>automatic</td>\n",
       "      <td>1FMJU1JT1HEA52352</td>\n",
       "      <td>4wd</td>\n",
       "      <td>full-size</td>\n",
       "      <td>sedan</td>\n",
       "      <td>white</td>\n",
       "      <td>https://images.craigslist.org/00N0N_1xMPvfxRAI...</td>\n",
       "      <td>35 VEHICLES PRICED UNDER $3000!!!  BIG TIME! T...</td>\n",
       "      <td>ca</td>\n",
       "      <td>2021-04-23T22:13:05-0400</td>\n",
       "    </tr>\n",
       "    <tr>\n",
       "      <th>freq</th>\n",
       "      <td>1</td>\n",
       "      <td>3608</td>\n",
       "      <td>2988</td>\n",
       "      <td>70985</td>\n",
       "      <td>8009</td>\n",
       "      <td>121456</td>\n",
       "      <td>94169</td>\n",
       "      <td>356209</td>\n",
       "      <td>405117</td>\n",
       "      <td>336524</td>\n",
       "      <td>261</td>\n",
       "      <td>131904</td>\n",
       "      <td>63465</td>\n",
       "      <td>87056</td>\n",
       "      <td>79285</td>\n",
       "      <td>7357</td>\n",
       "      <td>231</td>\n",
       "      <td>50614</td>\n",
       "      <td>12</td>\n",
       "    </tr>\n",
       "  </tbody>\n",
       "</table>\n",
       "</div>"
      ],
      "text/plain": [
       "                                                      url    region  \\\n",
       "count                                              426880    426880   \n",
       "unique                                             426880       404   \n",
       "top     https://prescott.craigslist.org/cto/d/prescott...  columbus   \n",
       "freq                                                    1      3608   \n",
       "\n",
       "                            region_url manufacturer   model condition  \\\n",
       "count                           426880       409234  421603    252776   \n",
       "unique                             413           42   29667         6   \n",
       "top     https://spokane.craigslist.org         ford   f-150      good   \n",
       "freq                              2988        70985    8009    121456   \n",
       "\n",
       "          cylinders    fuel title_status transmission                VIN  \\\n",
       "count        249202  423867       418638       424324             265838   \n",
       "unique            8       5            6            3             118264   \n",
       "top     6 cylinders     gas        clean    automatic  1FMJU1JT1HEA52352   \n",
       "freq          94169  356209       405117       336524                261   \n",
       "\n",
       "         drive       size    type paint_color  \\\n",
       "count   296313     120519  334022      296677   \n",
       "unique       3          4      13          12   \n",
       "top        4wd  full-size   sedan       white   \n",
       "freq    131904      63465   87056       79285   \n",
       "\n",
       "                                                image_url  \\\n",
       "count                                              426812   \n",
       "unique                                             241899   \n",
       "top     https://images.craigslist.org/00N0N_1xMPvfxRAI...   \n",
       "freq                                                 7357   \n",
       "\n",
       "                                              description   state  \\\n",
       "count                                              426810  426880   \n",
       "unique                                             360911      51   \n",
       "top     35 VEHICLES PRICED UNDER $3000!!!  BIG TIME! T...      ca   \n",
       "freq                                                  231   50614   \n",
       "\n",
       "                    posting_date  \n",
       "count                     426812  \n",
       "unique                    381536  \n",
       "top     2021-04-23T22:13:05-0400  \n",
       "freq                          12  "
      ]
     },
     "execution_count": 67,
     "metadata": {},
     "output_type": "execute_result"
    }
   ],
   "source": [
    "df.describe(include='object') "
   ]
  },
  {
   "cell_type": "markdown",
   "id": "32f15105-dca4-464b-9412-b657f76bd1f8",
   "metadata": {},
   "source": [
    "Data Cleaning"
   ]
  },
  {
   "cell_type": "code",
   "execution_count": 68,
   "id": "e2b5ea04-04cb-441a-b2d8-dd5e6ff68cea",
   "metadata": {},
   "outputs": [
    {
     "data": {
      "text/plain": [
       "id                   0\n",
       "url                  0\n",
       "region               0\n",
       "region_url           0\n",
       "price                0\n",
       "year              1205\n",
       "manufacturer     17646\n",
       "model             5277\n",
       "condition       174104\n",
       "cylinders       177678\n",
       "fuel              3013\n",
       "odometer          4400\n",
       "title_status      8242\n",
       "transmission      2556\n",
       "VIN             161042\n",
       "drive           130567\n",
       "size            306361\n",
       "type             92858\n",
       "paint_color     130203\n",
       "image_url           68\n",
       "description         70\n",
       "county          426880\n",
       "state                0\n",
       "lat               6549\n",
       "long              6549\n",
       "posting_date        68\n",
       "dtype: int64"
      ]
     },
     "execution_count": 68,
     "metadata": {},
     "output_type": "execute_result"
    }
   ],
   "source": [
    "#Check for nulls\n",
    "df.isnull().sum()"
   ]
  },
  {
   "cell_type": "markdown",
   "id": "752c25d9-559c-4316-8f4f-7f6459de216f",
   "metadata": {},
   "source": [
    "Issue:\n",
    "- Country and size columns have nulls as the most value, so we will remove the two columns."
   ]
  },
  {
   "cell_type": "code",
   "execution_count": 69,
   "id": "4293c137-df39-4150-8be3-443e8fcb8ed3",
   "metadata": {},
   "outputs": [
    {
     "data": {
      "text/plain": [
       "id              0.000000\n",
       "url             0.000000\n",
       "region          0.000000\n",
       "region_url      0.000000\n",
       "price           0.000000\n",
       "year            0.002823\n",
       "manufacturer    0.041337\n",
       "model           0.012362\n",
       "condition       0.407852\n",
       "cylinders       0.416225\n",
       "fuel            0.007058\n",
       "odometer        0.010307\n",
       "title_status    0.019308\n",
       "transmission    0.005988\n",
       "VIN             0.377254\n",
       "drive           0.305863\n",
       "size            0.717675\n",
       "type            0.217527\n",
       "paint_color     0.305011\n",
       "image_url       0.000159\n",
       "description     0.000164\n",
       "county          1.000000\n",
       "state           0.000000\n",
       "lat             0.015342\n",
       "long            0.015342\n",
       "posting_date    0.000159\n",
       "dtype: float64"
      ]
     },
     "execution_count": 69,
     "metadata": {},
     "output_type": "execute_result"
    }
   ],
   "source": [
    "# calculating percentage null values in each column\n",
    "df.isna().mean() "
   ]
  },
  {
   "cell_type": "code",
   "execution_count": 70,
   "id": "0881dd18-e0d4-469d-9da7-dca8f23a3a57",
   "metadata": {},
   "outputs": [],
   "source": [
    "# dropping columns which have more than 25% null values\n",
    "\n",
    "null_columns = df.columns[df.isnull().mean()>0.25]\n",
    "df.drop(columns = null_columns,axis =1,inplace=True) "
   ]
  },
  {
   "cell_type": "code",
   "execution_count": 71,
   "id": "53e8c2bc-c039-4ad6-91db-4ea65536ccbc",
   "metadata": {},
   "outputs": [
    {
     "data": {
      "text/plain": [
       "(426880, 19)"
      ]
     },
     "execution_count": 71,
     "metadata": {},
     "output_type": "execute_result"
    }
   ],
   "source": [
    "df.shape"
   ]
  },
  {
   "cell_type": "code",
   "execution_count": 72,
   "id": "7917fde7-7caf-47e1-a39d-2ee116053ac1",
   "metadata": {},
   "outputs": [
    {
     "data": {
      "text/plain": [
       "Index(['id', 'url', 'region', 'region_url', 'price', 'year', 'manufacturer',\n",
       "       'model', 'fuel', 'odometer', 'title_status', 'transmission', 'type',\n",
       "       'image_url', 'description', 'state', 'lat', 'long', 'posting_date'],\n",
       "      dtype='object')"
      ]
     },
     "execution_count": 72,
     "metadata": {},
     "output_type": "execute_result"
    }
   ],
   "source": [
    "df.columns"
   ]
  },
  {
   "cell_type": "code",
   "execution_count": 73,
   "id": "ccedd058-7e2c-4a0c-9d70-661a62c5e598",
   "metadata": {},
   "outputs": [
    {
     "data": {
      "text/plain": [
       "0"
      ]
     },
     "execution_count": 73,
     "metadata": {},
     "output_type": "execute_result"
    }
   ],
   "source": [
    "df.duplicated().sum()"
   ]
  },
  {
   "cell_type": "markdown",
   "id": "eb7997a3-d112-4638-8949-5fb3676d6f7e",
   "metadata": {},
   "source": [
    "- No duplicates"
   ]
  },
  {
   "cell_type": "code",
   "execution_count": 74,
   "id": "3dfddc4b-3148-47ab-8ae9-95844c11edbf",
   "metadata": {},
   "outputs": [],
   "source": [
    "#Remove unneeded columns\n",
    "df.drop(columns = ['id','url','region_url','image_url'],axis = 1,inplace =True) "
   ]
  },
  {
   "cell_type": "code",
   "execution_count": 75,
   "id": "e290a7c9-8382-463b-812d-49f9486a1b37",
   "metadata": {},
   "outputs": [
    {
     "data": {
      "text/plain": [
       "Index(['region', 'price', 'year', 'manufacturer', 'model', 'fuel', 'odometer',\n",
       "       'title_status', 'transmission', 'type', 'description', 'state', 'lat',\n",
       "       'long', 'posting_date'],\n",
       "      dtype='object')"
      ]
     },
     "execution_count": 75,
     "metadata": {},
     "output_type": "execute_result"
    }
   ],
   "source": [
    "df.columns"
   ]
  },
  {
   "cell_type": "code",
   "execution_count": 76,
   "id": "833d83ef-ec50-46d3-973a-05763e4397c6",
   "metadata": {},
   "outputs": [
    {
     "name": "stdout",
     "output_type": "stream",
     "text": [
      "The categorical columns are Index(['region', 'manufacturer', 'model', 'fuel', 'title_status',\n",
      "       'transmission', 'type', 'description', 'state', 'posting_date'],\n",
      "      dtype='object').\n",
      "\n",
      "\n",
      "The numerical columns are Index(['price', 'year', 'odometer', 'lat', 'long'], dtype='object').\n",
      "\n",
      "\n"
     ]
    }
   ],
   "source": [
    "cat_cols = df.columns[df.dtypes == 'object']\n",
    "num_cols = df.columns[df.dtypes != 'object']\n",
    "print(f'The categorical columns are {cat_cols}.\\n\\n')\n",
    "print(f'The numerical columns are {num_cols}.\\n\\n') "
   ]
  },
  {
   "cell_type": "code",
   "execution_count": 77,
   "id": "f8baa56c-eb32-4948-8d73-232567f16390",
   "metadata": {},
   "outputs": [
    {
     "data": {
      "text/plain": [
       "region              0\n",
       "manufacturer    17646\n",
       "model            5277\n",
       "fuel             3013\n",
       "title_status     8242\n",
       "transmission     2556\n",
       "type            92858\n",
       "description        70\n",
       "state               0\n",
       "posting_date       68\n",
       "dtype: int64"
      ]
     },
     "execution_count": 77,
     "metadata": {},
     "output_type": "execute_result"
    }
   ],
   "source": [
    "df[cat_cols].isna().sum()"
   ]
  },
  {
   "cell_type": "code",
   "execution_count": 78,
   "id": "535fcea9-1018-4082-9370-2a6ebe9c2043",
   "metadata": {},
   "outputs": [
    {
     "data": {
      "text/plain": [
       "Index(['region', 'manufacturer'], dtype='object')"
      ]
     },
     "execution_count": 78,
     "metadata": {},
     "output_type": "execute_result"
    }
   ],
   "source": [
    "# dropping  cat columns which have more than 10000 nulls\n",
    "df[cat_cols].columns[df[cat_cols].isna().sum().sort_values(ascending=False)>10000]"
   ]
  },
  {
   "cell_type": "code",
   "execution_count": 79,
   "id": "6aeb010b-a731-472e-9121-e27315f56312",
   "metadata": {},
   "outputs": [],
   "source": [
    "df.drop(columns = ['region', 'manufacturer'],axis =1, inplace=True)"
   ]
  },
  {
   "cell_type": "code",
   "execution_count": 80,
   "id": "879a48d6-72dd-4367-b626-78d03c985974",
   "metadata": {},
   "outputs": [
    {
     "data": {
      "text/plain": [
       "lat         6549\n",
       "long        6549\n",
       "odometer    4400\n",
       "year        1205\n",
       "price          0\n",
       "dtype: int64"
      ]
     },
     "execution_count": 80,
     "metadata": {},
     "output_type": "execute_result"
    }
   ],
   "source": [
    "df[num_cols].isnull().sum().sort_values(ascending=False) "
   ]
  },
  {
   "cell_type": "code",
   "execution_count": 81,
   "id": "1eb4d666-dbaf-4bec-ba8f-ed23ff076135",
   "metadata": {},
   "outputs": [
    {
     "data": {
      "text/plain": [
       "(426810, 13)"
      ]
     },
     "execution_count": 81,
     "metadata": {},
     "output_type": "execute_result"
    }
   ],
   "source": [
    "# Drop any rows whose description is null\n",
    "df.dropna(subset='description', axis=0, inplace=True)\n",
    "df.shape"
   ]
  },
  {
   "cell_type": "markdown",
   "id": "8a37ab52-6249-4800-b1e9-f769ce7c4cd3",
   "metadata": {},
   "source": [
    "- 13 features remains out of 26 features."
   ]
  },
  {
   "cell_type": "markdown",
   "id": "94a49bdf-ffaf-4185-ba2d-28c8bd7db334",
   "metadata": {},
   "source": [
    "Handling missing values:"
   ]
  },
  {
   "cell_type": "markdown",
   "id": "c7ea0568-fe8b-4bda-bb76-b3e7c61fabc6",
   "metadata": {},
   "source": [
    "- Fill the null values by the mean for numeric values and mode for discrete values."
   ]
  },
  {
   "cell_type": "code",
   "execution_count": 82,
   "id": "e9c793a2-9069-4964-bef2-b438b3678374",
   "metadata": {},
   "outputs": [
    {
     "data": {
      "text/plain": [
       "price           0\n",
       "year            0\n",
       "model           0\n",
       "fuel            0\n",
       "odometer        0\n",
       "title_status    0\n",
       "transmission    0\n",
       "type            0\n",
       "description     0\n",
       "state           0\n",
       "lat             0\n",
       "long            0\n",
       "posting_date    0\n",
       "dtype: int64"
      ]
     },
     "execution_count": 82,
     "metadata": {},
     "output_type": "execute_result"
    }
   ],
   "source": [
    "for c in df.columns:\n",
    "    if df[c].isnull().sum() == 0:\n",
    "        continue\n",
    "    if df[c].dtype == \"object\": \n",
    "        df[c].fillna(df[c].mode(dropna=True)[0], inplace=True)\n",
    "    else: \n",
    "        df[c].fillna(df[c].mean(), inplace=True)\n",
    "df.isnull().sum()"
   ]
  },
  {
   "cell_type": "code",
   "execution_count": 83,
   "id": "4bb404cf-4f7d-4879-9f1b-7850b004353f",
   "metadata": {},
   "outputs": [
    {
     "data": {
      "text/plain": [
       "price             int64\n",
       "year            float64\n",
       "model            object\n",
       "fuel             object\n",
       "odometer        float64\n",
       "title_status     object\n",
       "transmission     object\n",
       "type             object\n",
       "description      object\n",
       "state            object\n",
       "lat             float64\n",
       "long            float64\n",
       "posting_date     object\n",
       "dtype: object"
      ]
     },
     "execution_count": 83,
     "metadata": {},
     "output_type": "execute_result"
    }
   ],
   "source": [
    "df.dtypes"
   ]
  },
  {
   "cell_type": "code",
   "execution_count": 84,
   "id": "fbaa805f-5fa7-4b5b-a2d1-ce11bf4ac969",
   "metadata": {},
   "outputs": [],
   "source": [
    "# Convert from object to datetime for posting_date col\n",
    "df['posting_date'] = pd.to_datetime(df['posting_date'])"
   ]
  },
  {
   "cell_type": "code",
   "execution_count": 86,
   "id": "7ec8ebd4-c118-4815-a068-dcd83d379968",
   "metadata": {},
   "outputs": [],
   "source": [
    "# Convert from float to int for year col\n",
    "df['year'] = df['year'].astype(int) "
   ]
  },
  {
   "cell_type": "code",
   "execution_count": 87,
   "id": "808e8615-6edd-4379-a7cc-b2fdbc387fd3",
   "metadata": {},
   "outputs": [
    {
     "data": {
      "text/plain": [
       "price             int64\n",
       "year              int32\n",
       "model            object\n",
       "fuel             object\n",
       "odometer        float64\n",
       "title_status     object\n",
       "transmission     object\n",
       "type             object\n",
       "description      object\n",
       "state            object\n",
       "lat             float64\n",
       "long            float64\n",
       "posting_date     object\n",
       "dtype: object"
      ]
     },
     "execution_count": 87,
     "metadata": {},
     "output_type": "execute_result"
    }
   ],
   "source": [
    "df.dtypes"
   ]
  },
  {
   "cell_type": "code",
   "execution_count": 88,
   "id": "9c211306-6c57-4deb-ab9c-5497dd9bf8f3",
   "metadata": {},
   "outputs": [
    {
     "name": "stdout",
     "output_type": "stream",
     "text": [
      "price : 15652\n",
      "0       32889\n",
      "6995     3169\n",
      "7995     3128\n",
      "9995     2867\n",
      "8995     2837\n",
      "Name: price, dtype: int64\n",
      "\n",
      "********************\n",
      "\n",
      "year : 114\n",
      "2017    36420\n",
      "2018    36369\n",
      "2015    31538\n",
      "2013    30794\n",
      "2016    30434\n",
      "Name: year, dtype: int64\n",
      "\n",
      "********************\n",
      "\n",
      "model : 29667\n",
      "f-150             13218\n",
      "silverado 1500     5139\n",
      "1500               4211\n",
      "camry              3135\n",
      "silverado          3023\n",
      "Name: model, dtype: int64\n",
      "\n",
      "********************\n",
      "\n",
      "fuel : 5\n",
      "gas         359153\n",
      "other        30728\n",
      "diesel       30061\n",
      "hybrid        5170\n",
      "electric      1698\n",
      "Name: fuel, dtype: int64\n",
      "\n",
      "********************\n",
      "\n",
      "odometer : 104870\n",
      "98043.735993     4332\n",
      "100000.000000    2263\n",
      "1.000000         2246\n",
      "0.000000         1965\n",
      "200000.000000    1728\n",
      "Name: odometer, dtype: int64\n",
      "\n",
      "********************\n",
      "\n",
      "title_status : 6\n",
      "clean      413289\n",
      "rebuilt      7219\n",
      "salvage      3868\n",
      "lien         1422\n",
      "missing       814\n",
      "Name: title_status, dtype: int64\n",
      "\n",
      "********************\n",
      "\n",
      "transmission : 3\n",
      "automatic    339010\n",
      "other         62682\n",
      "manual        25118\n",
      "Name: transmission, dtype: int64\n",
      "\n",
      "********************\n",
      "\n",
      "type : 13\n",
      "sedan     179845\n",
      "SUV        77284\n",
      "pickup     43509\n",
      "truck      35279\n",
      "other      22110\n",
      "Name: type, dtype: int64\n",
      "\n",
      "********************\n",
      "\n",
      "description : 360911\n",
      "35 VEHICLES PRICED UNDER $3000!!!  BIG TIME! TAX TIME! SALE TIME!  CALL US NOW!!! 321-242-0328  30TH YEAR IN BUSINESS!!!!  OUR ADDRESS:  1900 AURORA RD. MELBOURNE, FL 32935  321-242-0328  Call us or visit us now we have a huge selection of honda accord and civic and pilot in stock at all times! we specialize in Toyota Camry and Corolla and Sienna and 3RD Row Suv. We also stock Domestics like Ford Fusion Explorer and Escape and the really nice Edge. if you care looking for Chevy Traverse or Chevrolet Malibu or Impala and Cruze for gas saving we have those as well, including Buick Enclave we always have em! Lacrosse and Regal are here too! Encore is available just call first. We stock Luxury Brands like Acura Lexus and German brands BMW Mercedes Benz and Audi. Dont get us started on Jeep! We love to sell Grand Cherokee and Patriot and Compass! Want a Really Nice Minivan!?! We got Chrysler Town and Country Dodge Grand Caravan and Honda Odyssey Always Here!! Sporty? Charger Challanger Mustang and Camro can be located for you! Are you Hip? Kia Soul and Optima are your bag, we got em!!!! Mazda is here too!! 3 and 6 and CX9. Our Number one seller for 3RD Row is the Dodge Journey and Durango, we always have a bunch in stock, back up camera and push button start bluetooth panoramic sunroof. Cadillac SRX for the luxury driver is here too! Ever driven a Nissan Altima or Sentra or Pathfinder or Rogue, come drive one today and feel the sporty drive!                                                                                                                                                                                                                                                                                                                                                                                                                                                                                                                                                                                                                                                                                                                                                                                                                                                                                                                                                                                                                                                                                                                                                                                                                                                                                                                                                                                                                                                                                                                                                                                                                                                                                                                                                                                                                                                                                                                                                                                                                                                                                                                                                                                                                                                                                                                                                                                                                                                                                                                                                                                                                                                                                                                                                                                                                                                                                                                                                                                                                                                                                                                                                                                                                                                                                                                                                                                                                                                                                                                                                                                                                                                                                                                                                                                                                                                                                                                                                                                                                                                                                                                                                                                                                                                                                                                                                                                                                                                                                                                                                                                                                                                                                                                                                                                                                                                                                                                                                                                                                                                                                                                                                                                                                                                                                                                                                                                                                                                                                                                                                                                                                                                                                                                                                                                                                                                                                                                                                                                                                                                                                                                                                                                                                                                                                                                                                                                                                                                                                                                                                                                                                                                                                                                                                                                                                                                                                                                                                                                                                                                                                                                                                                                                                                                                                                                                                                                                                                                                                                                                                                                                                                                                                                                                                                                                                                                                                                                                                                                                                                                                                                                                                                                                                                                                                                                                                                                                                                                                                                                                                                                                            231\n",
      "Call or text today to find out more. (602) 620-6525 Calls only landline (406) 245-1785  Available at Standard Auto Sales 1503 Broadwater Ave. Billings, MT 59102 standardautosales.net   Need help with financing? We have options for most credit situations. We never charge a doc fee! Extended service contracts available. We buy cars and take consignments! Call or text Mike today to find out more. (602) 620-6525  Welcome to Standard Auto Sales, located in Billings, MT, where quality service and customer satisfaction come first. We are here to help you find a vehicle that fits your lifestyle from our wide selection of used cars, trucks, and SUVs. We pride ourselves on a hassle-free car buying experience where your needs come first. Swing by to let us exceed your expectations while finding the perfect vehicle! Do you need financing for your next used vehicle purchase? Do you have a good credit, bad credit or no credit history situation? We work with a variety of financial institutions and we will work hard to get you approved quickly and easily, at the best rate possible! Apply now or call us at (406) 245-1785 or text (602) 620-6525 to schedule a test drive today!                                                                                                                                                                                                                                                                                                                                                                                                                                                                                                                                                                                                                                                                                                                                                                                                                                                                                                                                                                                                                                                                                                                                                                                                                                                                                                                                                                                                                                                                                                                                                                                                                                                                                                                                                                                                                                                                                                                                                                                                                                                                                                                                                                                                                                                                                                                                                                                                                                                                                                                                                                                                                                                                                                                                                                                                                                                                                                                                                                                                                                                                                                                                                                                                                                                                                                                                                                                                                                                                                                                                                                                                                                                                                                                                                                                                                                                                                                                                                                                                                                                                                                                                                                                                                                                                                                                                                                                                                                                                                                                                                                                                                                                                                                                                                                                                                                                                                                                                                                                                                                                                                                                                                                                                                                                                                                                                                                                                                                                                                                                                                                                                                                                                                                                                                                                                                                                                                                                                                                                                                                                                                                                                                                                                                                                                                                                                                                                                                                                                                                                                                                                                                                                                                                                                                                                                                                                                                                                                                                                                                                                                                                                                                                                                                                                                                                                                                                                                                                                                                                                                                                                                                                                                                                                                                                                                                                                                                                                                                                                                                                                                                                                                                                                                                                                                                                                                                                                                                                                                                                                                                                                                                                                                                                                                                                                                                                                                                                        197\n",
      "This truck has sold, but we buy trucks like this. If you know of one of these trucks for sale, we pay a finders fee.  Call Bobby! (636) 587 - 0660    7.3 7.3l 6.6 6.6l 5.9 5.9 6.7 6.7l powerstroke power stroke duramax cummins diesel lly lbz dmax pstroke big block small block big block smallblock sbf sbc bbf bbc efi 302 460 351 6.0 6.0L 5.0L 5.0 5.8L 5.8 7.5L 7.5 496 454 stroker 8.1 8.1L 12v 24v 4x4 four wheel drive 4wd laramie SLT Lariat lt lt1 lt2 lt3 ls club quad single crew cab clubcab quadcab singlecab crewcab cclb long bed longbed short shortbed  ccsb sclb scsb rustfree rust free clean 4door 2-door 2door 4-door ford dodge chevrolet chevy gmc sierra silverado f-250 f-350 f250 f350 ram 2500 3500 1st gen first gen firstgen 2nd gen 2ndgen second gen secondgen 3rd gen 3rdgen third gen thirdgen OBS superduty excursion supercrew supercab super duty 5-speed 6-speed stick shift stickshift manual transmission clutch intercooled inter cooled turbocharged turbo charged lonestar bighorn lone star big horn longhorn long horn low mile lowmile puller camper camp haul hauling hauler tow towing rig gooseneck goose neck 5th wheel fifth wheel 5thwheel fifthwheel hitch                                                                                                                                                                                                                                                                                                                                                                                                                                                                                                                                                                                                                                                                                                                                                                                                                                                                                                                                                                                                                                                                                                                                                                                                                                                                                                                                                                                                                                                                                                                                                                                                                                                                                                                                                                                                                                                                                                                                                                                                                                                                                                                                                                                                                                                                                                                                                                                                                                                                                                                                                                                                                                                                                                                                                                                                                                                                                                                                                                                                                                                                                                                                                                                                                                                                                                                                                                                                                                                                                                                                                                                                                                                                                                                                                                                                                                                                                                                                                                                                                                                                                                                                                                                                                                                                                                                                                                                                                                                                                                                                                                                                                                                                                                                                                                                                                                                                                                                                                                                                                                                                                                                                                                                                                                                                                                                                                                                                                                                                                                                                                                                                                                                                                                                                                                                                                                                                                                                                                                                                                                                                                                                                                                                                                                                                                                                                                                                                                                                                                                                                                                                                                                                                                                                                                                                                                                                                                                                                                                                                                                                                                                                                                                                                                                                                                                                                                                                                                                                                                                                                                                                                                                                                                                                                                                                                                                                                                                                                                                                                                                                                                                                                                                                                                                                                                                                                                                                                                                                                                                                                                                                                                                                                                                                                                                                                                                                                                                             154\n",
      "CREDIT CARS- $700.00 DOWN- RIGHT ON THE CORNER, RIGHT ON THE CREDIT!!  CALL US TODAY @ 352-204-2923 OR 352-204-2137. $700 DOWN!!!!!  CREDIT CHALLENGES??- NO PROBLEM- COME SEE US TODAY!  WE USE YOUR JOB AS YOUR CREDIT! ALL YOU NEED IS INCOME, PROOF OF INSURANCE, DRIVERS LICENSE, AND $700.00!!!  COME SEE US TODAY AT 320 NE 23RD AVENUE GAINESVILLE, FL 32609  WE ARE OPEN MONDAY- FRIDAY 9:00AM TO 7:00PM AND SATURDAY 9:00AM- 5:00PM  352-204-2137 OR 352-204-2137 CALL US TODAY TO SCHEDULE APPT!!  ⭐ Great Financing Options Available ⭐  ✅ Bad Credit? ✅ No Credit? ✅ First Time Buyer? ✅ We Work With Dozens Of Dealers To Get You Approved Fast Regardless Of Your Credit Situation.  🚘 Ready To Get Behind The Wheel Of Your New Car 🚘  100% APPROVAL! We use your job as your credit!  We Guarantee It! No matter your financial situation, you will drive off the lot in a new car, today.  ✅ Bad Credit ✅ No Credit ✅ Repossession ✅ Foreclosure ✅ SSI ✅ Disability ✅ Government Assistance  YOU'RE APPROVED!  🚘 🚘  ✅ Huge Selection Of Quality Pre-Owned Cars ✅ Leave With Confidence ✅ Trade-In Your Car Today For A Great Discount   📍 Stop By Today                                                                                                                                                                                                                                                                                                                                                                                                                                                                                                                                                                                                                                                                                                                                                                                                                                                                                                                                                                                                                                                                                                                                                                                                                                                                                                                                                                                                                                                                                                                                                                                                                                                                                                                                                                                                                                                                                                                                                                                                                                                                                                                                                                                                                                                                                                                                                                                                                                                                                                                                                                                                                                                                                                                                                                                                                                                                                                                                                                                                                                                                                                                                                                                                                                                                                                                                                                                                                                                                                                                                                                                                                                                                                                                                                                                                                                                                                                                                                                                                                                                                                                                                                                                                                                                                                                                                                                                                                                                                                                                                                                                                                                                                                                                                                                                                                                                                                                                                                                                                                                                                                                                                                                                                                                                                                                                                                                                                                                                                                                                                                                                                                                                                                                                                                                                                                                                                                                                                                                                                                                                                                                                                                                                                                                                                                                                                                                                                                                                                                                                                                                                                                                                                                                                                                                                                                                                                                                                                                                                                                                                                                                                                                                                                                                                                                                                                                                                                                                                                                                                                                                                                                                                                                                                                                                                                                                                                                                                                                                                                                                                                                                                                                                                                                                                                                                                                                                                                                                                                                                                                                                                                                                                                                                                                                                                                                                                                                                                                                       148\n",
      "HEC LEASING, LLC Call Gary, Russ or Clay at 888-366-1571  Down payment includes Factory Warranty with each truck!  AVAILABLE TRUCKS    2018 FREIGHTLINER CASCADIA 72\" CONDOS Detroit DD13 450HP @ 1800RPM with Engine Brake Eaton Fuller FOM-15E310C-LAS Ultrashift Plus Automatic Transmission  \\tDetroit DA-RT-4.0.0-4 HT 40,000 lb. R-Series Tandem Rear Axel \\t3.42 RatioAirliner Plus 40,000-lb. Load Transfer Rear Suspension w/Dump Valve \\tFontaine 6ATB Air Slide 5th Wheel w/Dash Mounted Control Valve \\t22.5 Low Profile Tires w/Polished Outer Aluminum Wheels \\t228\" Wheelbase \\tDual 100 Gallon Aluminum Fuel Tanks \\tPremium High Back Air Seats \\tPower Windows & Mirrors \\tAdjustable Tilt and Telescoping Steering Column \\tDelphi AM/FM/WB/Sirius Radio w/CD & Bluetooth \\tParkSmart HVAC System w/Espar Aux Heater in Sleeper \\t40\" Lower Bunk w/Foldable Upper Bunk   HEC LEASING, LLC Call Gary, Russ or Clay at 888-366-1571  2018 KENWORTH T680 76” CONDO Balance of Manufactures Warranty Engine Make PACCAR Engine Model MX-13 Engine HP 455 Engine Brake YES Transmission Make Eaton-Fuller Transmission Model FAOM -16810S-EP3 Transmission Speed 10 Speed Auto Paccar 40,000 lb. Rear Axle Ratio 2.64 Kenworth Air Glide 40,000  \\tRear Suspension w/ Dump Value \\tFontaine Air Slide Fifth Wheelires w/ Polished Outer Aluminum Wheels \\tDual 100 Gallon Aluminum Fuel Tanks \\tPower Windows and Mirrors \\tPremium High Back Air Seats \\tKW Idle HVAC System w/Espar \\tAux Heater in Sleeper \\tKW Radio W/AM/WB/CB/USB w/ Bluetooth \\t76” Condo Double Bunk Sleeper   HEC LEASING, LLC Call Gary, Russ or Clay at 888-366-1571  2016 PETERBILT 579 80 INCH DOUBLE BUNKS 2 Year / 250,000 Mile Peterbilt Factory Engine Warranty Engine Make PACCAR Engine Model MX-13 Engine HP 455 Engine Brake YES Transmission Make Eaton-Fuller Transmission Model FAOM -15810S-EP3 Transmission Speed Auto Sleeper 80 Inch Suspension Peterbilt Low Air Leaf Front Axle Cap 12300 Rear Axle Cap 40000 Rear End 2.64 Wheelbase 228 Front Wheels Aluminum Rear Wheels Aluminum Tire Size Low Pro 22.5 A/C Yes Powersteering Yes Cab Configuration  Conventional Color Red Interior Premier Frame  Steel Fifth Wheel Air Slide Rear Axles 2 Tank 1 100 Tank 2 100 Engine Serial Y072947 RPM 1700 Identification Vinyl Stickers  HEC LEASING, LLC Call Gary, Russ or Clay at 888-366-1571  AUTOMATIC TRANSMISSIONS!!!  We make financing decisions IN HOUSE! Low weekly rates! We make equipment acquisition easy & affordable. We offer flexible financing, and it is our mission to provide you with a transportation solution that meets your hauling needs and fits within your budget. Our lease-to-own arrangements are designed to making acquiring a truck as painless as possible. We are a small, family-oriented company that provides the personalized service you need to ensure you are acquiring the right truck under the right terms. Leasing is a great way to get your small business off the ground or quickly add capacity to your current operations.  To learn more about our truck leasing and financing services, contact us today.  To learn more about our truck leasing and financing services, contact us today  call one of our Salesman – Gary Carrigan, Russ Carrigan or Clay Britt at 888-366-1571!                                                       *DUMP TRUCK* *dump trucks* *dump* *volteo* dump truck, volteo, Freightliner International Ford Peterbilt Kenworth Mack trucks, tandem axle tri quad 5 , trucks for sale, Dumps, Tipper earth moving dumper, dumper truck business, financing, financing with bad credit, warren ox body dumps, local sale near me, Spanish dump, Volteo, mack volquete, volteo en venta, camion para movimiento de tierra, volquetes camiones tierraen mover volteos, VOLTEO, a la volteos volquetas, remolque, remolques, basculante, escombors Categories of sleeper semi 18 wheeler heavy duty Cab & Chassis Trucks, Conventional Trucks Sleeper, without Crane Dump Flatbed Garbage Glider Kit Tank Asphalt tank Gasoline Fuel Septic Vacuum Water Roll-Offs, Roll-Off Truck, Roll off Off Pumper SPANISH con dormitorio, camiones, carretera, camabajas, agua, petroleo, uso, florida, miami, exportacion importacion, importacion exportacion, usa, Camiones volvo mack, volvo, dealer camioneros, venta tracto tractomulas, mulas, bolteos, bolteo, se vende Septicos septico, septicos, tanques septico For Sleeper pump vacuum bomba, succion, septic Roll-Offs Truck Models, 108SD, 114SD, 122SD, ARGOSY, BUSINESS CLASS M2 106, 106V, 112, CASCADIA 113, 125, COLUMBIA 120, CORONADO 114, 122, 122 SD, FL60, FL70, FL80, FL106, FL112, FLC112, FLC120, FLD112, FLD120, FLD120 CLASSIC, FLD132 CLASSIC XL, 900, 1854, 1910, 1954, 1955, 2254, 2350G, 2500, 2524, 2554, 2574, 2574S, 2575, 2674, 2674SF, 4200, 4300, 4300 EAGLE, SBA, 4400, 4400 4600, 4700, 4800, 4900, 4900DT, 4954, 5000, 5500i, 5600, 5600i, 5900, 5900i, 5900i 7300, 7400, 7400 SFA, 7500, 7500 7600, 7600 7700, 8100, 8200, 8300, 8500, 8600, 8600 9000, 9100, 9200, 9200i, 9200i 9300, 9300 9370, 9400, 9400 9400i, 9900 9900i, ACCO 1850D, DURASTAR F1954, F2070A, F2375, F2554, F2574, F2575, F2674, F4370, F5070, F9370, FLEETSTAR 2000, G2604, HX515, HX520, HX615, HX620, LOADSTAR 1600, PAYSTAR 5500, PROSTAR, PROSTAR+, S1600, S1754, S1900, S1954, S2500, S2574, S2600, TRANSTAR, TRANSTAR WORKSTAR C500, C510, C550, K123, T270, T300, T330, T359, T370, T404, T440, T470, T600, T600A, T660, T800, T800B, T800W, T880, W900, W900A, W900B, W900L, W900S, W923, 300, 330, 335, 337, 340, 348, 357, 357SB, 358, 359, 359A, 359EXHD, 359S, 365, 367, 375, 377, 378, 378SB, 379, 379EXHD, 382, 384, 385, 386, 388, 389, 567, 579, 587, Volvo ACL64, ACL64B, ACL64BT, F12, FH500, FL626, FM7, FM9, FM12, FM380, FM440, FM480, FMX460, N1225, NH12, VHD42B200, VHD62B200, VHD62F200, VHD64B200, VHD64BT430, VHD64F200, VHD64FT200, VHD84B200, VHD84F200, VHD86B200, VHD104B200, VHD124F200, VNL64300, VNL64T300, VNL64T430, VNM42T200, VNM64T200, WCA64, WG42, WG64, WG64F, WG64T, WG64B, WIA64, WIA64T, WX42, Western Star 490, 3864S, 4700SB, 4700SF, 4764T, 4800FX, 4842, 4864F, 4900EX, 4900FA, 4900FX, 4900SA, 4900SB, 4900SF, 4964, 4964EX, 4964F, 4964FX, 4964SA, 5964S, 6900XD, 600, B60LS, B75, CH600, CH612, CH613, CH688R, CHN613, CL613, CL700, CL713, CL733, CL753, DM60, DM237, DM600, DM600GK, DM607S, DM685, DM685S, DM685SX, DM686, DM686S, DM686SX, DM688, DM688S, DM688SX, DM690, DM690S, DM800, DM809SX, DMM685, GRANITE, GRANITE CT713, CTP713, CTP713B, CU713, CV513, CV533, CV703, CV712, CV713, GU432, GU433, GU533, GU703, GU712, GU713, GU813, GU813E, METRO LINER, MIDLINER, MIDLINER CS200, CS200P, CS250P, CS300P, MS300, MRU613, PINNACLE, PINNACLE CHU613, CXP612, CXP613, CXU612, CXU613, R68ST, R487P, R600, R609, R685, R685ST, R685T, R686, R686LST, R686ST, R686SX R686T, R688, R688LST, R688S, R688ST, R690, R690S, R719S, R747ST, RB600, RB688, RB688S, RB688SX RB690S, RB690SX,Mack RD600, RD600GK RD668ST, RD685, RD685S, RD685ST, RD686, RD686 RD686LS, RD686S, RD686SX, RD688, RD688D, RD688P, RD688S RD688ST, RD688SX RD690, RD690P,Mack RD690S, RD690ST, RD822SX, RD854, RD890SX, RD960S, RM6864X, RS686, SUPERLINER, SUPERLINER RW613, RW633, RW713, RWS786LST, TRIDENT, VISION, VISION CX612, CX613, CXN612 CXN613, Used used Volteo usado, volquete usados, tierra Freightliner, International, Peterbilt, Kenworth, Mack, Sterling, Star, Freightliners, Internationals, Peterbilts, Kenworths, Sterlings, Stars, Sterling Mixer Concrete Sewer Rodder Tow Roll-Back pumper grapple bomba succion tipper freightliners macks Peterbilts kenworths internationals sewer cleaning, liquid waste disposal, tanks, tanker septic, FINANCING tractor trailer buy here pay here, in house trucker day cab terrible credit no check zero Financiamiento financiamiento sin documentos, visa, ilegales, venezolanos documentos Porta potty, hydroexcavation equipment, waste, pumper, water recycling, jetters, rodder, rodding guzzler, jet/vac, loader, wet/dry tank, industrial, services, plumbing industrial portable sanitation disposal grease 1500 gallon 2000 2500 2600 2650 3400 4000 5000 steel magazine, craigslist, com, magazine classifieds, vac by owner, Keywords:lifted rough country treadwright ford, f150 f 150 f-150 f250 250 f-250 f350 350 f-350 f450 450 f-450 f550 550 f-550, f650 F eseries e-series e series cargo van extended SB SMALL BED LB LONG XL XLT Super Duty Lariat King Ranch Sierra Denali,escalade Silverado expedition excursion tahoe Yukon LT SLT 2500HD 1500HD 3500 3500HD Power Stroke 5.7 6.0 6.4 6.7 7.3 Hemi Turbo Diesel, Diesel duramax lifted offroad, freedomway, freedomway trailers flatbed flat bed stepdeck step deck dropdeck drop ,trucks lowboy big rig kenworth kw t660 t680 t700 t600 t800 t880 t2000 w900 w990 w900l ,t660 t300, international prostar lonestar 9200 9900i ,vnl630 ,vnl660 vnl670 vnl780 vnl730 freightliner fld112 fld120 fld132 fld132xl cl120 flc120 columbia, century, coronado cascadia evolution classic classicxl condo peterbilt 379 378 387 377 386 388 389 348 cx613 ch613 vision midroof flattop utility ,Freightliner, Owner, Operator, Over the Road, Trucking, Drivers, Semi, Day Cab, Cascadia, Pete, KW, Peterbuilt, Classic Semi Tractors, 579 578 Cummins, Detroit, Detroit CAT, C15, C13 C12 Caterpillar, Cabs, Day-cab, Raised Roof, Midroof, Box Tandem axle, Semi-tractor, Drive Tandem, VNL670, VNL780, VNL630, VNL730, VNL430, Century, Columbia, Coronado 12.7 Cummins n14 d12 d13, isx, t2000, t600, t660, t680, t700,t800, Cascadia classic, Coronado,freightliner fld, m2, isx cummins ism swap 4x4 diesel dd15 detroit litter 60, dd13, manual transmission, auto, automatic, dt12, ishift, i-shift integrated powertrain, DT12 pete ken worth w900, M2, DD15, UD 2600, T680 Volvo, liftgate lift gate, d13 reefer dry car hauler, box transmission auto automatic dt12 ishift powertrain    133\n",
      "Name: description, dtype: int64\n",
      "\n",
      "********************\n",
      "\n",
      "state : 51\n",
      "ca    50610\n",
      "fl    28508\n",
      "tx    22937\n",
      "ny    19380\n",
      "oh    17690\n",
      "Name: state, dtype: int64\n",
      "\n",
      "********************\n",
      "\n",
      "lat : 53181\n",
      "38.493930    6481\n",
      "33.779214    3301\n",
      "43.182400    2666\n",
      "40.468785    2346\n",
      "33.786500    2341\n",
      "Name: lat, dtype: int64\n",
      "\n",
      "********************\n",
      "\n",
      "long : 53773\n",
      "-94.748506    6481\n",
      "-84.411811    3301\n",
      "-84.112200    2666\n",
      "-74.281707    2346\n",
      "-84.445400    2341\n",
      "Name: long, dtype: int64\n",
      "\n",
      "********************\n",
      "\n",
      "posting_date : 333354\n",
      "2021-04-23 19:13:05-07:00    13\n",
      "2021-05-04 09:00:42-06:00    12\n",
      "2021-04-30 10:01:13-04:00    12\n",
      "2021-05-01 07:01:20-07:00    11\n",
      "2021-04-29 16:25:19-04:00    11\n",
      "Name: posting_date, dtype: int64\n",
      "\n",
      "********************\n",
      "\n"
     ]
    }
   ],
   "source": [
    "# check what values in every column\n",
    "for col in df.columns:\n",
    "    print( col,':', df[col].nunique())\n",
    "    print(df[col].value_counts().nlargest(5))\n",
    "    print('\\n' + '*' * 20 + '\\n')"
   ]
  },
  {
   "cell_type": "markdown",
   "id": "f8414f1b-e894-4b07-b9b9-7bfb4a9eaa87",
   "metadata": {},
   "source": [
    "check outliers:"
   ]
  },
  {
   "cell_type": "code",
   "execution_count": 89,
   "id": "12e0dd76-e8fe-436d-aeaa-b61805ee9013",
   "metadata": {},
   "outputs": [
    {
     "data": {
      "image/png": "[encoded data removed]",
      "text/plain": [
       "<Figure size 640x480 with 1 Axes>"
      ]
     },
     "metadata": {},
     "output_type": "display_data"
    }
   ],
   "source": [
    "# box plot for detecting outliers\n",
    "boxplot = df.boxplot()"
   ]
  },
  {
   "cell_type": "code",
   "execution_count": 93,
   "id": "8d84e4f6-d4b4-4bf4-bc79-bc716953b26c",
   "metadata": {},
   "outputs": [
    {
     "data": {
      "image/png": "[encoded data removed]",
      "text/plain": [
       "<Figure size 2000x1000 with 1 Axes>"
      ]
     },
     "metadata": {},
     "output_type": "display_data"
    }
   ],
   "source": [
    "plt.figure(figsize=(20, 10))\n",
    "sns.boxplot(data=df, orient=\"h\", palette=\"coolwarm\")\n",
    "plt.title(\"Box Plot for Every Numerical Variable\", fontsize=14)\n",
    "plt.xlabel(\"Values\")\n",
    "plt.ylabel(\"Features\")\n",
    "plt.show()"
   ]
  },
  {
   "cell_type": "markdown",
   "id": "f38ce360-0c61-49c1-805b-7bff1b19e466",
   "metadata": {},
   "source": [
    "Handling outliers using IQR "
   ]
  },
  {
   "cell_type": "code",
   "execution_count": 94,
   "id": "58578e17-2570-4439-bf69-34aa85c7208b",
   "metadata": {},
   "outputs": [],
   "source": [
    "def remove_outliers_iqr(df, column):\n",
    "    Q1 = df[column].quantile(0.25)\n",
    "    Q3 = df[column].quantile(0.75)\n",
    "    IQR = Q3 - Q1\n",
    "    lower_bound = Q1 - 1.5 * IQR\n",
    "    upper_bound = Q3 + 1.5 * IQR\n",
    "    return df[(df[column] >= lower_bound) & (df[column] <= upper_bound)]\n",
    "\n",
    "numeric_columns = df.select_dtypes(include=[np.number]).columns\n",
    "\n",
    "for col in numeric_columns:\n",
    "    df = remove_outliers_iqr(df, col)"
   ]
  },
  {
   "cell_type": "code",
   "execution_count": 95,
   "id": "e2fdc0b5-80b1-4891-b217-33a12db956e1",
   "metadata": {},
   "outputs": [
    {
     "data": {
      "text/plain": [
       "(393269, 13)"
      ]
     },
     "execution_count": 95,
     "metadata": {},
     "output_type": "execute_result"
    }
   ],
   "source": [
    "df.shape"
   ]
  },
  {
   "cell_type": "markdown",
   "id": "19465fc7-71cb-4116-b9a0-a1dfada1cc76",
   "metadata": {},
   "source": [
    "- Show boxplot after removing outliers"
   ]
  },
  {
   "cell_type": "code",
   "execution_count": 121,
   "id": "5baf25a8-8067-40c3-8ced-55be2366a609",
   "metadata": {},
   "outputs": [
    {
     "data": {
      "image/png": "[encoded data removed]",
      "text/plain": [
       "<Figure size 2000x1000 with 1 Axes>"
      ]
     },
     "metadata": {},
     "output_type": "display_data"
    }
   ],
   "source": [
    "plt.figure(figsize=(20, 10))\n",
    "sns.boxplot(data=df, orient=\"h\", palette=\"coolwarm\")\n",
    "plt.title(\"Box Plot for Every Numerical Variable\", fontsize=14)\n",
    "plt.xlabel(\"Values\")\n",
    "plt.ylabel(\"Features\")\n",
    "plt.show()"
   ]
  },
  {
   "cell_type": "markdown",
   "id": "9e4f14f5-b19f-4a5f-9ac8-fd01cb35fab4",
   "metadata": {},
   "source": [
    "----------------------------------Business Questions and their answers--------------------------------"
   ]
  },
  {
   "cell_type": "markdown",
   "id": "bf6b77b0-3781-4fca-9328-1d6a8b14a75c",
   "metadata": {},
   "source": [
    "Q1:\n",
    "- which year have the most car production "
   ]
  },
  {
   "cell_type": "code",
   "execution_count": 97,
   "id": "27b0a79f-0cd3-4237-9f45-1da4281adbe8",
   "metadata": {},
   "outputs": [
    {
     "data": {
      "image/png": "[encoded data removed]",
      "text/plain": [
       "<Figure size 640x480 with 1 Axes>"
      ]
     },
     "metadata": {},
     "output_type": "display_data"
    }
   ],
   "source": [
    "\n",
    "sns.countplot(x='year',data=df,order=df['year'].value_counts().index[:10])\n",
    "plt.show();"
   ]
  },
  {
   "cell_type": "markdown",
   "id": "af90be76-9454-4a8b-8009-ae78d13817e2",
   "metadata": {},
   "source": [
    "Answer is 2017"
   ]
  },
  {
   "cell_type": "markdown",
   "id": "2728b0de-7e3b-4a71-9fa9-315776360585",
   "metadata": {},
   "source": [
    "Q2:\n",
    "- is there is a relationship between fuel type and year ?"
   ]
  },
  {
   "cell_type": "code",
   "execution_count": 103,
   "id": "3f0a8284-a536-4fea-a583-c38f4d54b975",
   "metadata": {},
   "outputs": [
    {
     "data": {
      "image/png": "[encoded data removed]",
      "text/plain": [
       "<Figure size 640x480 with 1 Axes>"
      ]
     },
     "metadata": {},
     "output_type": "display_data"
    }
   ],
   "source": [
    "\n",
    "sns.lineplot(x = 'year' ,y = 'fuel',data =df ,hue = 'fuel')\n",
    "plt.title(\"Fuel types over years\")\n",
    "plt.show();"
   ]
  },
  {
   "cell_type": "markdown",
   "id": "f3172a9f-8174-44f7-a719-77ea144bb237",
   "metadata": {},
   "source": [
    "- The answer is No "
   ]
  },
  {
   "cell_type": "markdown",
   "id": "686e42f2-388c-4a4d-9016-a5f56d25af5f",
   "metadata": {},
   "source": [
    "Q3:\n",
    "- What is the top 5 status of the cars?"
   ]
  },
  {
   "cell_type": "code",
   "execution_count": 107,
   "id": "015a64a2-90d7-4525-ac9a-6549dcafbd97",
   "metadata": {},
   "outputs": [
    {
     "data": {
      "image/png": "[encoded data removed]",
      "text/plain": [
       "<Figure size 640x480 with 1 Axes>"
      ]
     },
     "metadata": {},
     "output_type": "display_data"
    }
   ],
   "source": [
    "\n",
    "sns.countplot(y=df['title_status'] , data =df,order =df['title_status'].value_counts().index[:5])\n",
    "plt.xlabel('status Count')\n",
    "plt.title('Top 5 car status');"
   ]
  },
  {
   "cell_type": "markdown",
   "id": "315e9f49-6c60-4985-b0de-4b414e56affb",
   "metadata": {},
   "source": [
    "- The most car status is clean "
   ]
  },
  {
   "cell_type": "markdown",
   "id": "b957ca1b-4241-4950-94c1-d0700b068044",
   "metadata": {},
   "source": [
    "Q4:\n",
    "- What is the most popular transmission?"
   ]
  },
  {
   "cell_type": "code",
   "execution_count": 110,
   "id": "c973e897-cb46-4c78-995d-f660edc020a7",
   "metadata": {},
   "outputs": [
    {
     "data": {
      "text/plain": [
       "<AxesSubplot:ylabel='transmission'>"
      ]
     },
     "execution_count": 110,
     "metadata": {},
     "output_type": "execute_result"
    },
    {
     "data": {
      "image/png": "[encoded data removed]",
      "text/plain": [
       "<Figure size 640x480 with 1 Axes>"
      ]
     },
     "metadata": {},
     "output_type": "display_data"
    }
   ],
   "source": [
    "\n",
    "df['transmission'].value_counts().plot(kind='pie',autopct='%1.1f%%')"
   ]
  },
  {
   "cell_type": "markdown",
   "id": "bd49c856-a4a7-492f-868b-85a948eb61f6",
   "metadata": {},
   "source": [
    "- The answer is automatic with 79.8% of data."
   ]
  },
  {
   "cell_type": "markdown",
   "id": "9c39d039-ad9b-405a-83cd-431799a1a72c",
   "metadata": {},
   "source": [
    "Q5:\n",
    " - What is the top 10 car types?"
   ]
  },
  {
   "cell_type": "code",
   "execution_count": 115,
   "id": "2ed50c42-c770-43ea-8355-9332230ad3ad",
   "metadata": {},
   "outputs": [
    {
     "data": {
      "image/png": "[encoded data removed]",
      "text/plain": [
       "<Figure size 640x480 with 1 Axes>"
      ]
     },
     "metadata": {},
     "output_type": "display_data"
    }
   ],
   "source": [
    "\n",
    "sns.countplot(x = df['type'], order=df['type'].value_counts().index[:10])\n",
    "plt.title('Top  10 types of cars ') \n",
    "plt.show()"
   ]
  },
  {
   "cell_type": "markdown",
   "id": "aa80c7e0-1b1a-4c84-822d-aa176ed875a5",
   "metadata": {},
   "source": [
    "- Sedan is the most popular type of cars"
   ]
  },
  {
   "cell_type": "markdown",
   "id": "2b729832-fcfe-4f91-9251-507d9fefb059",
   "metadata": {},
   "source": [
    "Q6:\n",
    "- What about prices over years?"
   ]
  },
  {
   "cell_type": "code",
   "execution_count": 119,
   "id": "3db890f7-9512-4085-b449-a5ca8752eb99",
   "metadata": {},
   "outputs": [
    {
     "data": {
      "image/png": "[encoded data removed]",
      "text/plain": [
       "<Figure size 640x480 with 1 Axes>"
      ]
     },
     "metadata": {},
     "output_type": "display_data"
    }
   ],
   "source": [
    "\n",
    "sns.lineplot(x = 'year' ,y = 'price',data =df)\n",
    "plt.title(\"Price over years\")\n",
    "plt.show(); "
   ]
  },
  {
   "cell_type": "markdown",
   "id": "c09afb73-41fa-4f6e-b06d-a3a6e3f243e0",
   "metadata": {},
   "source": [
    "- prices was increasing untill 2020, it starts to decrease because of Corona-Virus"
   ]
  },
  {
   "cell_type": "code",
   "execution_count": null,
   "id": "7b5f4125-6d6e-4f5d-a389-d4d7f80c34da",
   "metadata": {},
   "outputs": [],
   "source": []
  }
 ],
 "metadata": {
  "kernelspec": {
   "display_name": "Python 3 (ipykernel)",
   "language": "python",
   "name": "python3"
  },
  "language_info": {
   "codemirror_mode": {
    "name": "ipython",
    "version": 3
   },
   "file_extension": ".py",
   "mimetype": "text/x-python",
   "name": "python",
   "nbconvert_exporter": "python",
   "pygments_lexer": "ipython3",
   "version": "3.9.19"
  }
 },
 "nbformat": 4,
 "nbformat_minor": 5
}
